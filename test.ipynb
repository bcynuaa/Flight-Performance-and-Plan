{
 "metadata": {
  "language_info": {
   "codemirror_mode": {
    "name": "ipython",
    "version": 3
   },
   "file_extension": ".py",
   "mimetype": "text/x-python",
   "name": "python",
   "nbconvert_exporter": "python",
   "pygments_lexer": "ipython3",
   "version": "3.8.5-final"
  },
  "orig_nbformat": 2,
  "kernelspec": {
   "name": "python_defaultSpec_1600169078685",
   "display_name": "Python 3.8.5 32-bit"
  }
 },
 "nbformat": 4,
 "nbformat_minor": 2,
 "cells": [
  {
   "cell_type": "code",
   "execution_count": 19,
   "metadata": {
    "tags": []
   },
   "outputs": [
    {
     "output_type": "stream",
     "name": "stdout",
     "text": "Troposphere\nTroposphere\nTroposphere\nTroposphere\nTroposphere\nTroposphere\nTroposphere\nTroposphere\nTroposphere\nTroposphere\nTroposphere\nTroposphere\nTroposphere\nTroposphere\nTroposphere\nTroposphere\nTroposphere\nTroposphere\nTroposphere\nTroposphere\nTroposphere\nTroposphere\nTroposphere\nTroposphere\nTroposphere\nTroposphere\nTroposphere\nTroposphere\nTroposphere\nTroposphere\nTroposphere\nTroposphere\nTroposphere\nTroposphere\nTroposphere\nTroposphere\nTroposphere\nTroposphere\nTroposphere\nTroposphere\nTroposphere\nTroposphere\nTroposphere\nTroposphere\nTroposphere\nTroposphere\nTroposphere\nTroposphere\nTroposphere\nTroposphere\nTroposphere\nTroposphere\nTroposphere\nTroposphere\nTroposphere\nTroposphere\nTroposphere\nTroposphere\nTroposphere\nTroposphere\nTroposphere\nTroposphere\nTroposphere\nTroposphere\nTroposphere\nTroposphere\nTroposphere\nTroposphere\nTroposphere\nTroposphere\nTroposphere\nTroposphere\nTroposphere\nTropopouse\n"
    },
    {
     "output_type": "error",
     "ename": "TypeError",
     "evalue": "can't convert complex to float",
     "traceback": [
      "\u001b[1;31m---------------------------------------------------------------------------\u001b[0m",
      "\u001b[1;31mTypeError\u001b[0m                                 Traceback (most recent call last)",
      "\u001b[1;32m<ipython-input-19-03c320e7db2e>\u001b[0m in \u001b[0;36m<module>\u001b[1;34m\u001b[0m\n\u001b[0;32m     44\u001b[0m \u001b[1;32mfor\u001b[0m \u001b[0malt_i\u001b[0m \u001b[1;32min\u001b[0m \u001b[0malt\u001b[0m\u001b[1;33m:\u001b[0m\u001b[1;33m\u001b[0m\u001b[1;33m\u001b[0m\u001b[0m\n\u001b[0;32m     45\u001b[0m     \u001b[0mTemp\u001b[0m\u001b[1;33m,\u001b[0m\u001b[0mPr\u001b[0m\u001b[1;33m,\u001b[0m\u001b[0mrho\u001b[0m\u001b[1;33m=\u001b[0m\u001b[0mStdAtpUS\u001b[0m\u001b[1;33m(\u001b[0m\u001b[0malt_i\u001b[0m\u001b[1;33m)\u001b[0m\u001b[1;33m\u001b[0m\u001b[1;33m\u001b[0m\u001b[0m\n\u001b[1;32m---> 46\u001b[1;33m     \u001b[0mP\u001b[0m\u001b[1;33m[\u001b[0m\u001b[0mi\u001b[0m\u001b[1;33m]\u001b[0m\u001b[1;33m=\u001b[0m\u001b[1;33m(\u001b[0m\u001b[1;33m(\u001b[0m\u001b[0mrho\u001b[0m\u001b[1;33m/\u001b[0m\u001b[1;36m0.0023769\u001b[0m\u001b[1;33m)\u001b[0m\u001b[1;33m**\u001b[0m\u001b[0mm\u001b[0m\u001b[1;33m)\u001b[0m\u001b[1;33m*\u001b[0m\u001b[0mPsmax\u001b[0m\u001b[1;33m\u001b[0m\u001b[1;33m\u001b[0m\u001b[0m\n\u001b[0m\u001b[0;32m     47\u001b[0m     \u001b[0mFR\u001b[0m\u001b[1;33m[\u001b[0m\u001b[0mi\u001b[0m\u001b[1;33m]\u001b[0m\u001b[1;33m=\u001b[0m\u001b[0mP\u001b[0m\u001b[1;33m[\u001b[0m\u001b[0mi\u001b[0m\u001b[1;33m]\u001b[0m\u001b[1;33m*\u001b[0m\u001b[0mc\u001b[0m\u001b[1;33m\u001b[0m\u001b[1;33m\u001b[0m\u001b[0m\n\u001b[0;32m     48\u001b[0m     \u001b[0mi\u001b[0m\u001b[1;33m=\u001b[0m\u001b[0mi\u001b[0m\u001b[1;33m+\u001b[0m\u001b[1;36m1\u001b[0m\u001b[1;33m\u001b[0m\u001b[1;33m\u001b[0m\u001b[0m\n",
      "\u001b[1;31mTypeError\u001b[0m: can't convert complex to float"
     ]
    }
   ],
   "source": [
    "import math\n",
    "import numpy as np\n",
    "import matplotlib.pyplot as plt\n",
    "\n",
    "def StdAtpUS(h):\n",
    "    h1,h2,h3=3.6089e4,6.5616e4,9.0e4\n",
    "    a0,a2,g=-3.567e3,5.494e-4,32.2\n",
    "    R=1716\n",
    "    T0,p0,rho0=518.67,2116.2,2.3769e-3\n",
    "    T1=T0+a0*h1\n",
    "    p1=p0*(T1/T0)**(-g/a0/R)\n",
    "    rho1=rho0*(T1/T0)**(-g/a0/R-1)\n",
    "    T2=T1\n",
    "    p2=p1*math.exp(-g/R/T2*(h2-h1))\n",
    "    rho2=rho1*math.exp(-g/R/T2*(h2-h1))\n",
    "    if h<=h1:\n",
    "        print('Troposphere')\n",
    "        T=T0+a0*h\n",
    "        p=p0*(T/T0)**(-g/a0/R-1)\n",
    "        rho=rho0*(T/T0)**(-g/a0/R-1)\n",
    "        pass\n",
    "    elif h<=h2:\n",
    "        print('Tropopouse')\n",
    "        T=T1\n",
    "        p=p1*math.exp(-g/R/T*(h-h1))\n",
    "        rho=rho1*math.exp(-g/R/T*(h-h1))\n",
    "        pass\n",
    "    elif h<=h3:\n",
    "        print('Statosphere')\n",
    "        T=T2+a2*(h-h2)\n",
    "        p=p2*(T/T2)**(-g/A2/R)\n",
    "        rho=rho2*(T/T2)**(-g/a2/R-1)\n",
    "        pass\n",
    "    else:\n",
    "        print('Error:the alititude should be less than 9000 ft')\n",
    "        pass\n",
    "    return T,p,rho"
   ]
  },
  {
   "cell_type": "code",
   "execution_count": null,
   "metadata": {},
   "outputs": [],
   "source": [
    "alt=np.arange(0,50000,500,float)\n",
    "P=np.zeros(alt.size)\n",
    "FR=np.zeros(alt.size)\n",
    "Psmax,m,c=290,0.6,0.45\n",
    "i=0\n",
    "for alt_i in alt:\n",
    "    Temp,Pr,rho=StdAtpUS(alt_i)\n",
    "    P[i]=((rho/0.0023769)**m)*Psmax\n",
    "    FR[i]=P[i]*c\n",
    "    i=i+1\n",
    "    pass\n",
    "fig=plt.figure()\n",
    "ax=fig.add_subplot(1,1,1)\n",
    "ax.plot(alt,P)\n",
    "ax.set_xlabel(\"Altitude(ft)\")\n",
    "ax.set_ylabel(\"Power(hp)\")\n",
    "ax.grid(True)\n",
    "fig=plt.figure()\n",
    "ax=fig.add_subplot(1,1,1)\n",
    "ax.plot(alt,FR)\n",
    "ax.set_xlabel(\"Altitude(ft)\")\n",
    "ax.set_ylabel(\"Fuel flow rate(lvs/hr)\")\n",
    "ax.grid(True)"
   ]
  }
 ]
}